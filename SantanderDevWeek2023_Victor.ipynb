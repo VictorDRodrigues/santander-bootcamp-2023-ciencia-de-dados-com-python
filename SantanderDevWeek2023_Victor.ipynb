{
  "nbformat": 4,
  "nbformat_minor": 0,
  "metadata": {
    "colab": {
      "provenance": []
    },
    "kernelspec": {
      "name": "python3",
      "display_name": "Python 3"
    },
    "language_info": {
      "name": "python"
    }
  },
  "cells": [
    {
      "cell_type": "markdown",
      "source": [
        "# Santander Dev Week 2023 (ETL com Python) Sem IA"
      ],
      "metadata": {
        "id": "BPJQsTCULaC-"
      }
    },
    {
      "cell_type": "markdown",
      "source": [
        "**Contexto:** Você é um cientista de dados no Santander e recebeu a tarefa de envolver seus clientes de maneira mais personalizada. Seu objetivo é usar o poder da IA Generativa para criar mensagens de marketing personalizadas que serão entregues a cada cliente. (SEM IA)\n",
        "\n",
        "**Condições do Problema:**\n",
        "\n",
        "1. Você recebeu uma planilha simples, em formato CSV ('SDW2023.csv'), com uma lista de IDs de usuário do banco:\n",
        "  ```\n",
        "  UserID\n",
        "  4086\n",
        "  4087\n",
        "  4088\n",
        "  4089\n",
        "  4090\n",
        "  ```\n",
        "2. Seu trabalho é consumir o endpoint `GET https://sdw-2023-prd.up.railway.app/users/{id}` (API da Santander Dev Week 2023) para obter os dados de cada cliente.\n",
        "3. Depois de obter os dados dos clientes, você vai usar a API do ChatGPT (OpenAI) para gerar uma mensagem de marketing personalizada para cada cliente. Essa mensagem deve enfatizar a importância dos investimentos.\n",
        "4. Uma vez que a mensagem para cada cliente esteja pronta, você vai enviar essas informações de volta para a API, atualizando a lista de \"news\" de cada usuário usando o endpoint `PUT https://sdw-2023-prd.up.railway.app/users/{id}`.\n",
        "\n"
      ],
      "metadata": {
        "id": "k5fA5OrXt1a3"
      }
    },
    {
      "cell_type": "code",
      "source": [
        "# Utilize sua própria URL se quiser ;)\n",
        "# Repositório da API: https://github.com/digitalinnovationone/santander-dev-week-2023-api\n",
        "sdw2023_api_url = 'https://sdw-2023-prd.up.railway.app'"
      ],
      "metadata": {
        "id": "FKqLC_CWoYqR"
      },
      "execution_count": null,
      "outputs": []
    },
    {
      "cell_type": "markdown",
      "source": [
        "## **E**xtract\n",
        "\n",
        "Extraia a lista de IDs de usuário a partir do arquivo CSV. Para cada ID, faça uma requisição GET para obter os dados do usuário correspondente."
      ],
      "metadata": {
        "id": "9dfI-o7gLRq9"
      }
    },
    {
      "cell_type": "code",
      "execution_count": null,
      "metadata": {
        "id": "NYydpX_GLRCB",
        "colab": {
          "base_uri": "https://localhost:8080/"
        },
        "outputId": "b39ed517-fcb2-47d6-acb3-b9999442bbb7"
      },
      "outputs": [
        {
          "output_type": "stream",
          "name": "stdout",
          "text": [
            "[4086, 4087, 4088, 4089, 4090]\n"
          ]
        }
      ],
      "source": [
        "import pandas as pd\n",
        "\n",
        "df = pd.read_csv('/content/sample_data/SDW2023.csv')\n",
        "user_ids = df['UserID'].tolist()\n",
        "print(user_ids)"
      ]
    },
    {
      "cell_type": "code",
      "source": [
        "import requests\n",
        "import json\n",
        "\n",
        "def get_user(id):\n",
        "  response = requests.get(f'{sdw2023_api_url}/users/{id}')\n",
        "  return response.json() if response.status_code == 200 else None\n",
        "\n",
        "users = [user for id in user_ids if (user := get_user(id)) is not None]\n",
        "print(json.dumps(users, indent=2))"
      ],
      "metadata": {
        "id": "F5XOuCZGSTGw",
        "colab": {
          "base_uri": "https://localhost:8080/"
        },
        "outputId": "94a6248c-fd2b-4e43-d199-bf061677ede4"
      },
      "execution_count": 50,
      "outputs": [
        {
          "output_type": "stream",
          "name": "stdout",
          "text": [
            "[\n",
            "  {\n",
            "    \"id\": 4086,\n",
            "    \"name\": \"Dominica\",\n",
            "    \"account\": {\n",
            "      \"id\": 4315,\n",
            "      \"number\": \"78751-1\",\n",
            "      \"agency\": \"0001\",\n",
            "      \"balance\": 0.0,\n",
            "      \"limit\": 1000.0\n",
            "    },\n",
            "    \"card\": {\n",
            "      \"id\": 3959,\n",
            "      \"number\": \"7875 **** **** 1111\",\n",
            "      \"limit\": 1000.0\n",
            "    },\n",
            "    \"features\": [\n",
            "      {\n",
            "        \"id\": 1272,\n",
            "        \"icon\": \"string\",\n",
            "        \"description\": \"string\"\n",
            "      }\n",
            "    ],\n",
            "    \"news\": [\n",
            "      {\n",
            "        \"id\": 8003,\n",
            "        \"icon\": \"string\",\n",
            "        \"description\": \"string\"\n",
            "      }\n",
            "    ]\n",
            "  },\n",
            "  {\n",
            "    \"id\": 4087,\n",
            "    \"name\": \"Perceval\",\n",
            "    \"account\": {\n",
            "      \"id\": 4316,\n",
            "      \"number\": \"78761-1\",\n",
            "      \"agency\": \"0001\",\n",
            "      \"balance\": 0.0,\n",
            "      \"limit\": 1000.0\n",
            "    },\n",
            "    \"card\": {\n",
            "      \"id\": 3960,\n",
            "      \"number\": \"7876 **** **** 1111\",\n",
            "      \"limit\": 1000.0\n",
            "    },\n",
            "    \"features\": [\n",
            "      {\n",
            "        \"id\": 1273,\n",
            "        \"icon\": \"string\",\n",
            "        \"description\": \"string\"\n",
            "      }\n",
            "    ],\n",
            "    \"news\": [\n",
            "      {\n",
            "        \"id\": 8004,\n",
            "        \"icon\": \"string\",\n",
            "        \"description\": \"string\"\n",
            "      }\n",
            "    ]\n",
            "  },\n",
            "  {\n",
            "    \"id\": 4088,\n",
            "    \"name\": \"Aleda\",\n",
            "    \"account\": {\n",
            "      \"id\": 4317,\n",
            "      \"number\": \"78781-1\",\n",
            "      \"agency\": \"0001\",\n",
            "      \"balance\": 0.0,\n",
            "      \"limit\": 1000.0\n",
            "    },\n",
            "    \"card\": {\n",
            "      \"id\": 3961,\n",
            "      \"number\": \"7878 **** **** 1111\",\n",
            "      \"limit\": 1000.0\n",
            "    },\n",
            "    \"features\": [\n",
            "      {\n",
            "        \"id\": 1274,\n",
            "        \"icon\": \"string\",\n",
            "        \"description\": \"string\"\n",
            "      }\n",
            "    ],\n",
            "    \"news\": [\n",
            "      {\n",
            "        \"id\": 8005,\n",
            "        \"icon\": \"string\",\n",
            "        \"description\": \"string\"\n",
            "      }\n",
            "    ]\n",
            "  },\n",
            "  {\n",
            "    \"id\": 4089,\n",
            "    \"name\": \"Burlie\",\n",
            "    \"account\": {\n",
            "      \"id\": 4318,\n",
            "      \"number\": \"78791-1\",\n",
            "      \"agency\": \"0001\",\n",
            "      \"balance\": 0.0,\n",
            "      \"limit\": 1000.0\n",
            "    },\n",
            "    \"card\": {\n",
            "      \"id\": 3962,\n",
            "      \"number\": \"7879 **** **** 1111\",\n",
            "      \"limit\": 1000.0\n",
            "    },\n",
            "    \"features\": [\n",
            "      {\n",
            "        \"id\": 1275,\n",
            "        \"icon\": \"string\",\n",
            "        \"description\": \"string\"\n",
            "      }\n",
            "    ],\n",
            "    \"news\": [\n",
            "      {\n",
            "        \"id\": 8006,\n",
            "        \"icon\": \"string\",\n",
            "        \"description\": \"string\"\n",
            "      }\n",
            "    ]\n",
            "  },\n",
            "  {\n",
            "    \"id\": 4090,\n",
            "    \"name\": \"Burlie\",\n",
            "    \"account\": {\n",
            "      \"id\": 4319,\n",
            "      \"number\": \"78801-1\",\n",
            "      \"agency\": \"0002\",\n",
            "      \"balance\": 0.0,\n",
            "      \"limit\": 1000.0\n",
            "    },\n",
            "    \"card\": {\n",
            "      \"id\": 3963,\n",
            "      \"number\": \"7880 **** **** 1111\",\n",
            "      \"limit\": 1000.0\n",
            "    },\n",
            "    \"features\": [\n",
            "      {\n",
            "        \"id\": 1276,\n",
            "        \"icon\": \"string\",\n",
            "        \"description\": \"string\"\n",
            "      }\n",
            "    ],\n",
            "    \"news\": [\n",
            "      {\n",
            "        \"id\": 8007,\n",
            "        \"icon\": \"string\",\n",
            "        \"description\": \"string\"\n",
            "      }\n",
            "    ]\n",
            "  }\n",
            "]\n"
          ]
        }
      ]
    },
    {
      "cell_type": "markdown",
      "source": [
        "## **T**ransform\n",
        "\n",
        "Utilize a API do OpenAI GPT-4 para gerar uma mensagem de marketing personalizada para cada usuário."
      ],
      "metadata": {
        "id": "cWoqInB4TF1x"
      }
    },
    {
      "cell_type": "markdown",
      "source": [
        "Base de dados de NEWS para implementação."
      ],
      "metadata": {
        "id": "L-c6bkYWDB6m"
      }
    },
    {
      "cell_type": "code",
      "source": [
        "dfnews = pd.read_csv('/content/sample_data/NEWS.csv')"
      ],
      "metadata": {
        "id": "xHCw-cv65HfG"
      },
      "execution_count": 10,
      "outputs": []
    },
    {
      "cell_type": "markdown",
      "source": [
        "Implementa em cada usuario mensagem de NEWS seguindo o valores de mensagens já pre-determinada para os user, validados pela quantidade de news ja recebidas."
      ],
      "metadata": {
        "id": "0kHhpJtNChzw"
      }
    },
    {
      "cell_type": "code",
      "source": [
        "\n",
        "for user in users:\n",
        "  num_news = len(user['news'])\n",
        "  news = dfnews['news'][num_news]\n",
        "  print(news)\n",
        "  user['news'].append({\n",
        "      \"icon\": \"https://digitalinnovationone.github.io/santander-dev-week-2023-api/icons/credit.svg\",\n",
        "      \"description\": news\n",
        "  })"
      ],
      "metadata": {
        "colab": {
          "base_uri": "https://localhost:8080/"
        },
        "id": "CwMQGw4T4rsH",
        "outputId": "a8af960c-3482-4d9b-916b-7c7536cc41e4"
      },
      "execution_count": 54,
      "outputs": [
        {
          "output_type": "stream",
          "name": "stdout",
          "text": [
            "Investir: sua rota para o sucesso financeiro.\n",
            "Investir: sua rota para o sucesso financeiro.\n",
            "Investir: sua rota para o sucesso financeiro.\n",
            "Investir: sua rota para o sucesso financeiro.\n",
            "Investir: sua rota para o sucesso financeiro.\n"
          ]
        }
      ]
    },
    {
      "cell_type": "markdown",
      "source": [
        "Verifica se o dados foram implementados de maneira correta nem cada user."
      ],
      "metadata": {
        "id": "WwEcY5lACNDV"
      }
    },
    {
      "cell_type": "code",
      "source": [
        "print(json.dumps(users, indent=2))"
      ],
      "metadata": {
        "colab": {
          "base_uri": "https://localhost:8080/"
        },
        "id": "o56hlq-2B9GO",
        "outputId": "fd091b6d-aabd-4dae-f823-1960820fde8f"
      },
      "execution_count": 56,
      "outputs": [
        {
          "output_type": "stream",
          "name": "stdout",
          "text": [
            "[\n",
            "  {\n",
            "    \"id\": 4086,\n",
            "    \"name\": \"Dominica\",\n",
            "    \"account\": {\n",
            "      \"id\": 4315,\n",
            "      \"number\": \"78751-1\",\n",
            "      \"agency\": \"0001\",\n",
            "      \"balance\": 0.0,\n",
            "      \"limit\": 1000.0\n",
            "    },\n",
            "    \"card\": {\n",
            "      \"id\": 3959,\n",
            "      \"number\": \"7875 **** **** 1111\",\n",
            "      \"limit\": 1000.0\n",
            "    },\n",
            "    \"features\": [\n",
            "      {\n",
            "        \"id\": 1272,\n",
            "        \"icon\": \"string\",\n",
            "        \"description\": \"string\"\n",
            "      }\n",
            "    ],\n",
            "    \"news\": [\n",
            "      {\n",
            "        \"id\": 8003,\n",
            "        \"icon\": \"string\",\n",
            "        \"description\": \"string\"\n",
            "      },\n",
            "      {\n",
            "        \"icon\": \"https://digitalinnovationone.github.io/santander-dev-week-2023-api/icons/credit.svg\",\n",
            "        \"description\": \"O futuro agradece seus investimentos.\"\n",
            "      },\n",
            "      {\n",
            "        \"icon\": \"https://digitalinnovationone.github.io/santander-dev-week-2023-api/icons/credit.svg\",\n",
            "        \"description\": \"Investir: sua rota para o sucesso financeiro.\"\n",
            "      }\n",
            "    ]\n",
            "  },\n",
            "  {\n",
            "    \"id\": 4087,\n",
            "    \"name\": \"Perceval\",\n",
            "    \"account\": {\n",
            "      \"id\": 4316,\n",
            "      \"number\": \"78761-1\",\n",
            "      \"agency\": \"0001\",\n",
            "      \"balance\": 0.0,\n",
            "      \"limit\": 1000.0\n",
            "    },\n",
            "    \"card\": {\n",
            "      \"id\": 3960,\n",
            "      \"number\": \"7876 **** **** 1111\",\n",
            "      \"limit\": 1000.0\n",
            "    },\n",
            "    \"features\": [\n",
            "      {\n",
            "        \"id\": 1273,\n",
            "        \"icon\": \"string\",\n",
            "        \"description\": \"string\"\n",
            "      }\n",
            "    ],\n",
            "    \"news\": [\n",
            "      {\n",
            "        \"id\": 8004,\n",
            "        \"icon\": \"string\",\n",
            "        \"description\": \"string\"\n",
            "      },\n",
            "      {\n",
            "        \"icon\": \"https://digitalinnovationone.github.io/santander-dev-week-2023-api/icons/credit.svg\",\n",
            "        \"description\": \"O futuro agradece seus investimentos.\"\n",
            "      },\n",
            "      {\n",
            "        \"icon\": \"https://digitalinnovationone.github.io/santander-dev-week-2023-api/icons/credit.svg\",\n",
            "        \"description\": \"Investir: sua rota para o sucesso financeiro.\"\n",
            "      }\n",
            "    ]\n",
            "  },\n",
            "  {\n",
            "    \"id\": 4088,\n",
            "    \"name\": \"Aleda\",\n",
            "    \"account\": {\n",
            "      \"id\": 4317,\n",
            "      \"number\": \"78781-1\",\n",
            "      \"agency\": \"0001\",\n",
            "      \"balance\": 0.0,\n",
            "      \"limit\": 1000.0\n",
            "    },\n",
            "    \"card\": {\n",
            "      \"id\": 3961,\n",
            "      \"number\": \"7878 **** **** 1111\",\n",
            "      \"limit\": 1000.0\n",
            "    },\n",
            "    \"features\": [\n",
            "      {\n",
            "        \"id\": 1274,\n",
            "        \"icon\": \"string\",\n",
            "        \"description\": \"string\"\n",
            "      }\n",
            "    ],\n",
            "    \"news\": [\n",
            "      {\n",
            "        \"id\": 8005,\n",
            "        \"icon\": \"string\",\n",
            "        \"description\": \"string\"\n",
            "      },\n",
            "      {\n",
            "        \"icon\": \"https://digitalinnovationone.github.io/santander-dev-week-2023-api/icons/credit.svg\",\n",
            "        \"description\": \"O futuro agradece seus investimentos.\"\n",
            "      },\n",
            "      {\n",
            "        \"icon\": \"https://digitalinnovationone.github.io/santander-dev-week-2023-api/icons/credit.svg\",\n",
            "        \"description\": \"Investir: sua rota para o sucesso financeiro.\"\n",
            "      }\n",
            "    ]\n",
            "  },\n",
            "  {\n",
            "    \"id\": 4089,\n",
            "    \"name\": \"Burlie\",\n",
            "    \"account\": {\n",
            "      \"id\": 4318,\n",
            "      \"number\": \"78791-1\",\n",
            "      \"agency\": \"0001\",\n",
            "      \"balance\": 0.0,\n",
            "      \"limit\": 1000.0\n",
            "    },\n",
            "    \"card\": {\n",
            "      \"id\": 3962,\n",
            "      \"number\": \"7879 **** **** 1111\",\n",
            "      \"limit\": 1000.0\n",
            "    },\n",
            "    \"features\": [\n",
            "      {\n",
            "        \"id\": 1275,\n",
            "        \"icon\": \"string\",\n",
            "        \"description\": \"string\"\n",
            "      }\n",
            "    ],\n",
            "    \"news\": [\n",
            "      {\n",
            "        \"id\": 8006,\n",
            "        \"icon\": \"string\",\n",
            "        \"description\": \"string\"\n",
            "      },\n",
            "      {\n",
            "        \"icon\": \"https://digitalinnovationone.github.io/santander-dev-week-2023-api/icons/credit.svg\",\n",
            "        \"description\": \"O futuro agradece seus investimentos.\"\n",
            "      },\n",
            "      {\n",
            "        \"icon\": \"https://digitalinnovationone.github.io/santander-dev-week-2023-api/icons/credit.svg\",\n",
            "        \"description\": \"Investir: sua rota para o sucesso financeiro.\"\n",
            "      }\n",
            "    ]\n",
            "  },\n",
            "  {\n",
            "    \"id\": 4090,\n",
            "    \"name\": \"Burlie\",\n",
            "    \"account\": {\n",
            "      \"id\": 4319,\n",
            "      \"number\": \"78801-1\",\n",
            "      \"agency\": \"0002\",\n",
            "      \"balance\": 0.0,\n",
            "      \"limit\": 1000.0\n",
            "    },\n",
            "    \"card\": {\n",
            "      \"id\": 3963,\n",
            "      \"number\": \"7880 **** **** 1111\",\n",
            "      \"limit\": 1000.0\n",
            "    },\n",
            "    \"features\": [\n",
            "      {\n",
            "        \"id\": 1276,\n",
            "        \"icon\": \"string\",\n",
            "        \"description\": \"string\"\n",
            "      }\n",
            "    ],\n",
            "    \"news\": [\n",
            "      {\n",
            "        \"id\": 8007,\n",
            "        \"icon\": \"string\",\n",
            "        \"description\": \"string\"\n",
            "      },\n",
            "      {\n",
            "        \"icon\": \"https://digitalinnovationone.github.io/santander-dev-week-2023-api/icons/credit.svg\",\n",
            "        \"description\": \"O futuro agradece seus investimentos.\"\n",
            "      },\n",
            "      {\n",
            "        \"icon\": \"https://digitalinnovationone.github.io/santander-dev-week-2023-api/icons/credit.svg\",\n",
            "        \"description\": \"Investir: sua rota para o sucesso financeiro.\"\n",
            "      }\n",
            "    ]\n",
            "  }\n",
            "]\n"
          ]
        }
      ]
    },
    {
      "cell_type": "markdown",
      "source": [
        "## **L**oad\n",
        "\n",
        "Atualize a lista de \"news\" de cada usuário na API com a nova mensagem gerada."
      ],
      "metadata": {
        "id": "kNuP0SDUZMBY"
      }
    },
    {
      "cell_type": "code",
      "source": [
        "def update_user(user):\n",
        "  response = requests.put(f\"{sdw2023_api_url}/users/{user['id']}\", json=user)\n",
        "  return True if response.status_code == 200 else False\n",
        "\n",
        "for user in users:\n",
        "  success = update_user(user)\n",
        "  print(f\"User {user['name']} updated? {success}!\")"
      ],
      "metadata": {
        "id": "YefWfYBoZMN2",
        "colab": {
          "base_uri": "https://localhost:8080/"
        },
        "outputId": "6af3c84f-fc4a-4668-c89a-6a319cc6425e"
      },
      "execution_count": 58,
      "outputs": [
        {
          "output_type": "stream",
          "name": "stdout",
          "text": [
            "User Dominica updated? True!\n",
            "User Perceval updated? True!\n",
            "User Aleda updated? True!\n",
            "User Burlie updated? True!\n",
            "User Burlie updated? True!\n"
          ]
        }
      ]
    }
  ]
}